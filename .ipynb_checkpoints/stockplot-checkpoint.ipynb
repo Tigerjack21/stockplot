{
 "cells": [
  {
   "cell_type": "markdown",
   "metadata": {},
   "source": [
    " # StockPlot\n",
    " ### Jack Omohundro 2019 \n",
    " ***\n",
    " "
   ]
  },
  {
   "cell_type": "code",
   "execution_count": 2,
   "metadata": {},
   "outputs": [],
   "source": [
    "import pandas as pd\n",
    "import pandas_datareader as pdr\n",
    "\n",
    "from datetime import datetime as dt\n",
    "from datetime import timedelta\n",
    "\n",
    "import matplotlib.pyplot as plt\n",
    "import matplotlib.dates as mdates\n",
    "\n",
    "from math import isnan\n",
    "\n",
    "\n",
    "from pandas.plotting import register_matplotlib_converters\n"
   ]
  },
  {
   "cell_type": "code",
   "execution_count": null,
   "metadata": {},
   "outputs": [],
   "source": []
  },
  {
   "cell_type": "markdown",
   "metadata": {},
   "source": [
    " #### Object **StockPlot**\n",
    " ***\n",
    " "
   ]
  },
  {
   "cell_type": "code",
   "execution_count": 9,
   "metadata": {},
   "outputs": [],
   "source": [
    "class StockPlot(object):\n",
    "    \n",
    "    def __init__(self, tkr, *argv):\n",
    "        if (tkr==None):\n",
    "            for arg in argv:\n",
    "                self._df = arg\n",
    "        else:\n",
    "           \n",
    "            self._df = pd.DataFrame(pdr.get_data_yahoo(tkr),columns=[\"Close\"])\n",
    "            self._df.index.name=dt.now().strftime(\"%m/%d/%y\")\n",
    "            self._df.columns = [tkr]\n",
    "            self._tkr = tkr\n",
    "        self.title = \"Performance\"\n",
    "        \n",
    "        \n",
    "    def __add__(self, other):\n",
    "        self._out = pd.concat([self._df,other._df],axis=1)\n",
    "        self._out.index.name=dt.now().strftime(\"%m/%d/%y\")\n",
    "        \n",
    "        return StockPlot(None,self._out)\n",
    "    \n",
    "    \n",
    "    def __iadd__(self, other):\n",
    "        self._df = pd.concat([self._df,other._df],axis=1)\n",
    "        self._df.index.name=dt.now().strftime(\"%m/%d/%y\")\n",
    "        return self\n",
    "        \n",
    "    \n",
    "    def tpDays(self,days):\n",
    "        self._df = self._df[-days:]\n",
    "        \n",
    "        return self\n",
    "    \n",
    "    \n",
    "    def setTitle(self, t):        \n",
    "        self.title = t\n",
    "        \n",
    "        return self\n",
    "    \n",
    "    \n",
    "    def savefig(self, path):\n",
    "        plt.savefig(path, dpi=300)\n",
    "        \n",
    "    def clear(self):\n",
    "        self.ax.clear()\n",
    "        \n",
    "    def plot(self, title,style=\"abs\", **kwc):\n",
    "        register_matplotlib_converters()    \n",
    "        plt.style.use(\"ggplot\")\n",
    "        self.fig, self.ax = plt.subplots()      \n",
    "        #self._df.plot(x=\"Dates\", y=list(self._df.columns),title=\"TEST\").set(xlabel=\"x label\", ylabel=\"y label\")\n",
    "\n",
    "        if style == \"rel\":\n",
    "            for x in self._df.columns:\n",
    "                i = 0\n",
    "                while isnan(self._df[x][i]):\n",
    "                    i+=1\n",
    "                self._df[x] = (self._df[x]/self._df[x][i]-1)*100\n",
    "                plt.axhline(0,color=\"grey\",linewidth=1.1)\n",
    "        plt.plot(self._df,linewidth=1) #color=\"#1F3763\"\n",
    "        self.ax.xaxis.set_major_locator(plt.MaxNLocator(7))\n",
    "        plt.xlabel(\"Date\")\n",
    "        if style == \"rel\":\n",
    "            plt.ylabel(\"% Change\")\n",
    "        else:\n",
    "            plt.ylabel(\"Price\")\n",
    "            \n",
    "        plt.title(title)\n",
    "        plt.legend(list(self._df.columns),loc=\"upper left\")\n",
    "        \n",
    "        #ticks.append(str(dates[int(len(dates)-1)]))\n",
    "        plt.xticks(rotation=15)\n",
    "        plt.subplots_adjust(bottom=0.17)\n",
    "        \n",
    "        for key, flag in kwc.items():\n",
    "            if (key==\"path\"):\n",
    "                plt.savefig(flag, dpi=300)\n",
    "            if (key==\"wm\"):\n",
    "                plt.text(.13, .18, flag, fontsize=10, transform=plt.gcf().transFigure)\n",
    "        \n",
    "        return self\n",
    "    \n",
    "    \n",
    "    def MA(self, ma):\n",
    "        self._tmptkrs = pd.DataFrame()\n",
    "        self._tmpma = pd.DataFrame()\n",
    "        \n",
    "        for x in self._df.columns:\n",
    "            if(x[-2:]!=\"MA\"):\n",
    "                self._tmptkrs = pd.concat([self._tmptkrs,self._df[x]],axis=1)\n",
    "                \n",
    "            else:\n",
    "                self._tmpma = pd.concat([self._tmpma,self._df[x]],axis=1)\n",
    "                \n",
    "        self._toadd = self._tmptkrs.rolling(window=ma).mean()\n",
    "        self._toadd.columns=[x + str(ma) + \"MA\" for x in self._toadd.columns]\n",
    "        self._tmpma = pd.concat([self._toadd],axis=1)\n",
    "                  \n",
    "        return StockPlot(None, pd.concat([self._tmpma],axis=1,sort=True))"
   ]
  },
  {
   "cell_type": "code",
   "execution_count": 10,
   "metadata": {},
   "outputs": [
    {
     "data": {
      "text/plain": [
       "<__main__.StockPlot at 0x11cbd54d0>"
      ]
     },
     "execution_count": 10,
     "metadata": {},
     "output_type": "execute_result"
    },
    {
     "data": {
      "image/png": "[encoded data removed]",
      "text/plain": [
       "<Figure size 432x288 with 1 Axes>"
      ]
     },
     "metadata": {},
     "output_type": "display_data"
    }
   ],
   "source": [
    "StockPlot(\"CCL\").plot(\"CCL\")"
   ]
  },
  {
   "cell_type": "code",
   "execution_count": null,
   "metadata": {},
   "outputs": [],
   "source": []
  }
 ],
 "metadata": {
  "kernelspec": {
   "display_name": "Python 3",
   "language": "python",
   "name": "python3"
  },
  "language_info": {
   "codemirror_mode": {
    "name": "ipython",
    "version": 3
   },
   "file_extension": ".py",
   "mimetype": "text/x-python",
   "name": "python",
   "nbconvert_exporter": "python",
   "pygments_lexer": "ipython3",
   "version": "3.7.4"
  }
 },
 "nbformat": 4,
 "nbformat_minor": 4
}
